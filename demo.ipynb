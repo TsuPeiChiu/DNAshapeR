{
  "nbformat": 4,
  "nbformat_minor": 0,
  "metadata": {
    "colab": {
      "name": "demo.ipynb",
      "provenance": [],
      "collapsed_sections": [],
      "toc_visible": true
    },
    "kernelspec": {
      "name": "ir",
      "display_name": "R"
    }
  },
  "cells": [
    {
      "cell_type": "markdown",
      "metadata": {
        "id": "kCppqGq4b3r0",
        "colab_type": "text"
      },
      "source": [
        "# **DNAshapeR**"
      ]
    },
    {
      "cell_type": "markdown",
      "metadata": {
        "id": "kDwmYhYKb7X2",
        "colab_type": "text"
      },
      "source": [
        "**R package for high-throughput DNA shape predictions and feature encoding**  \n",
        "Tsu-Pei Chiu, Federico Comoglio, Tianyin Zhou, Lin Yang, Renato Paro, and Remo Rohs"
      ]
    },
    {
      "cell_type": "markdown",
      "metadata": {
        "id": "La2mSlK4b9lm",
        "colab_type": "text"
      },
      "source": [
        "## Introduction"
      ]
    },
    {
      "cell_type": "markdown",
      "metadata": {
        "id": "Vkg7YQ5Ib9Zi",
        "colab_type": "text"
      },
      "source": [
        "DNAshapeR predicts DNA shape features in an ultra-fast, high-throughput manner from genomic sequencing data. The package takes either nucleotide sequence or genomic intervals as input, and generates various graphical representations for further analysis. DNAshapeR further encodes DNA sequence and shape features for statistical learning applications by concatenating feature matrices with user-defined combinations of k-mer and DNA shape features that can be readily used as input for machine learning algorithms.\n",
        "\n",
        "In this notebook, you will learn:\n",
        "\n",
        "* how to load/install DNAshapeR\n",
        "\n",
        "* how to predict DNA shape features\n",
        "\n",
        "* how to visualize DNA shape predictions\n",
        "\n",
        "* how to encode sequence and shape features, and apply them"
      ]
    },
    {
      "cell_type": "markdown",
      "metadata": {
        "id": "cXPsf2gKcdFk",
        "colab_type": "text"
      },
      "source": [
        "## Installation"
      ]
    },
    {
      "cell_type": "code",
      "metadata": {
        "id": "JJaiBhaVbyB_",
        "colab_type": "code",
        "outputId": "919a003d-dd4d-4bda-8d47-17b27bd7043e",
        "colab": {
          "base_uri": "https://localhost:8080/",
          "height": 700
        }
      },
      "source": [
        "# Takes about 4 minutes\n",
        "library(devtools, quietly = TRUE)\n",
        "install_github(repo = \"mateuszrezler/DNAshapeR\", quiet = TRUE)\n",
        "library(DNAshapeR, quietly = TRUE)"
      ],
      "execution_count": 0,
      "outputs": [
        {
          "output_type": "stream",
          "text": [
            "Installing 15 packages: GenomicRanges, Biostrings, fields, BiocGenerics, S4Vectors, IRanges, RCurl, GenomeInfoDbData, bitops, zlibbioc, dotCall64, GenomeInfoDb, XVector, spam, maps\n",
            "\n",
            "\n",
            "Attaching package: ‘BiocGenerics’\n",
            "\n",
            "\n",
            "The following objects are masked from ‘package:parallel’:\n",
            "\n",
            "    clusterApply, clusterApplyLB, clusterCall, clusterEvalQ,\n",
            "    clusterExport, clusterMap, parApply, parCapply, parLapply,\n",
            "    parLapplyLB, parRapply, parSapply, parSapplyLB\n",
            "\n",
            "\n",
            "The following objects are masked from ‘package:stats’:\n",
            "\n",
            "    IQR, mad, sd, var, xtabs\n",
            "\n",
            "\n",
            "The following objects are masked from ‘package:base’:\n",
            "\n",
            "    anyDuplicated, append, as.data.frame, basename, cbind, colnames,\n",
            "    dirname, do.call, duplicated, eval, evalq, Filter, Find, get, grep,\n",
            "    grepl, intersect, is.unsorted, lapply, Map, mapply, match, mget,\n",
            "    order, paste, pmax, pmax.int, pmin, pmin.int, Position, rank,\n",
            "    rbind, Reduce, rownames, sapply, setdiff, sort, table, tapply,\n",
            "    union, unique, unsplit, which, which.max, which.min\n",
            "\n",
            "\n",
            "\n",
            "Attaching package: ‘S4Vectors’\n",
            "\n",
            "\n",
            "The following object is masked from ‘package:base’:\n",
            "\n",
            "    expand.grid\n",
            "\n",
            "\n"
          ],
          "name": "stderr"
        }
      ]
    },
    {
      "cell_type": "markdown",
      "metadata": {
        "id": "Fkz6UwuFdJsn",
        "colab_type": "text"
      },
      "source": [
        "## Description of usage"
      ]
    },
    {
      "cell_type": "markdown",
      "metadata": {
        "id": "T0QTd8-BcfHJ",
        "colab_type": "text"
      },
      "source": [
        "### Predict DNA shape features"
      ]
    },
    {
      "cell_type": "markdown",
      "metadata": {
        "id": "PDnEkqfLdL4K",
        "colab_type": "text"
      },
      "source": [
        "The core of DNAshapeR, the DNAshape method (Zhou, et al., 2013), uses a sliding pentamer window where structural features unique to each of the 512 distinct pentamers define a vector of minor groove width (MGW), Roll, propeller twist (ProT), and helix twist (HelT) at each nucleotide position. MGW and ProT define base-pair parameters whereas Roll and HelT represent base pair-step parameters. The values for each DNA shape feature as function of its pentamer sequence were derived from all-atom Monte Carlo simulations where DNA structure is sampled in collective and internal degrees of freedom in combination with explicit sodium counter ions (Zhang, et al., 2014). The Monte Carlo simulations were analyzed with a modified Curves approach (Zhou, et al., 2013). Average values of each shape feature for each pentamer were derived from analyzing the ensemble of Monte Carlo predictions for 2,121 DNA fragments of 12−27 base pairs in length. DNAshapeR predicts the four DNA shape features MGW, HelT, ProT, and Roll, which were observed in various cocrystal structures as playing an important role in specific protein-DNA binding.\n",
        "\n",
        "In the latest version, we further added additional 9 DNA shape features beyond our previous set of 4 features, and expanded our available repertoire to a total of 13 features, including 6 inter-base pair or base pair-step parameters (HelT, Rise, Roll, Shift, Slide, and Tilt), \n",
        "6 intra-base pair or base pair-step parameters (Buckle, Opening, ProT, Shear, Stagger, and Stretch), and MGW."
      ]
    },
    {
      "cell_type": "markdown",
      "metadata": {
        "id": "YrzvHtUWdLmJ",
        "colab_type": "text"
      },
      "source": [
        "### Predict biophysical feature"
      ]
    },
    {
      "cell_type": "markdown",
      "metadata": {
        "id": "6b5mkuzddLDj",
        "colab_type": "text"
      },
      "source": [
        "Our previous work explained protein-DNA binding specificity based on correlations between MGW and (electrostatic potential) EP observed in experimentally available structures (Joshi, et al., 2007). However, A/T and C/G base pairs carry different partial charge distributions in the \n",
        "minor groove (due primarily to the guanine amino group), which will affect minor-groove EP. We developed a high-throughput method, named DNAphi, to predict minor-groove EP based on data mining of results from solving the nonlinear Poisson-Boltzmann calculations (Honig & Nicholls, 1995) on 2,297 DNA structures derived from Monte Carlo simulations. DNAshapeR includes EP as an additional feature."
      ]
    },
    {
      "cell_type": "markdown",
      "metadata": {
        "id": "lAPfwi66djSR",
        "colab_type": "text"
      },
      "source": [
        "### Predict DNA shape feature due to CpG methylation"
      ]
    },
    {
      "cell_type": "markdown",
      "metadata": {
        "id": "vfaI_Os_di-O",
        "colab_type": "text"
      },
      "source": [
        "To achieve a better mechanistic understanding of the effect of CpG methylation on local DNA structure, we developed a high-throughput method, named methyl-DNAshape, for predicting the impact of cytosine methylation on DNA shape features. In analogy to the DNAshape method (Zhou, et al., 2013), the method predicts DNA shape features (ProT, HelT, Roll, and MGW) in the context of CpG methylation based on methyl-DNAshape Pentamer Query Table (mPQT) derived from the results of all-atom Monte Carlo simulations on a total of 3,518 DNA fragments of lengths varying from 13 to 24 bp."
      ]
    },
    {
      "cell_type": "markdown",
      "metadata": {
        "id": "SzjoENigdi2c",
        "colab_type": "text"
      },
      "source": [
        "## Examples of usage"
      ]
    },
    {
      "cell_type": "markdown",
      "metadata": {
        "id": "KfgB3sc7iTLa",
        "colab_type": "text"
      },
      "source": [
        "### Predictions"
      ]
    },
    {
      "cell_type": "markdown",
      "metadata": {
        "id": "y_8TDFfjdiuF",
        "colab_type": "text"
      },
      "source": [
        "DNAshapeR can predict DNA shape features from custom FASTA files or directly from genomic coordinates in the form of a GRanges object within Bioconductor (see <https://bioconductor.org/packages/release/bioc/html/GenomicRanges.html> for more information)."
      ]
    },
    {
      "cell_type": "markdown",
      "metadata": {
        "id": "H_M8KwpGd88S",
        "colab_type": "text"
      },
      "source": [
        "List of built-in sample files:"
      ]
    },
    {
      "cell_type": "code",
      "metadata": {
        "id": "kF9vPAFCcKfG",
        "colab_type": "code",
        "outputId": "3bb1d3fd-df42-43e1-805e-2c3038d77368",
        "colab": {
          "base_uri": "https://localhost:8080/",
          "height": 52
        }
      },
      "source": [
        "ext_data <- system.file(\"extdata\", package = \"DNAshapeR\")\n",
        "dir(ext_data)"
      ],
      "execution_count": 0,
      "outputs": [
        {
          "output_type": "display_data",
          "data": {
            "text/plain": [
              " [1] \"CGRsample_short.fa\"     \"CGRsample.fa\"           \"MethylSample.fa\"       \n",
              " [4] \"MethylSamplePos.fa\"     \"PBMsample_short.fa\"     \"PBMsample_short.s\"     \n",
              " [7] \"PBMsample.fa\"           \"PBMsample.s\"            \"SELEXsample_short.fa\"  \n",
              "[10] \"SELEXsample_short.s\"    \"SELEXsample.fa\"         \"SELEXsample.s\"         \n",
              "[13] \"SingleSeqsample.fa\"     \"SingleSeqsample.fa.MGW\""
            ],
            "text/latex": "\\begin{enumerate*}\n\\item 'CGRsample\\_short.fa'\n\\item 'CGRsample.fa'\n\\item 'MethylSample.fa'\n\\item 'MethylSamplePos.fa'\n\\item 'PBMsample\\_short.fa'\n\\item 'PBMsample\\_short.s'\n\\item 'PBMsample.fa'\n\\item 'PBMsample.s'\n\\item 'SELEXsample\\_short.fa'\n\\item 'SELEXsample\\_short.s'\n\\item 'SELEXsample.fa'\n\\item 'SELEXsample.s'\n\\item 'SingleSeqsample.fa'\n\\item 'SingleSeqsample.fa.MGW'\n\\end{enumerate*}\n",
            "text/markdown": "1. 'CGRsample_short.fa'\n2. 'CGRsample.fa'\n3. 'MethylSample.fa'\n4. 'MethylSamplePos.fa'\n5. 'PBMsample_short.fa'\n6. 'PBMsample_short.s'\n7. 'PBMsample.fa'\n8. 'PBMsample.s'\n9. 'SELEXsample_short.fa'\n10. 'SELEXsample_short.s'\n11. 'SELEXsample.fa'\n12. 'SELEXsample.s'\n13. 'SingleSeqsample.fa'\n14. 'SingleSeqsample.fa.MGW'\n\n\n",
            "text/html": [
              "<style>\n",
              ".list-inline {list-style: none; margin:0; padding: 0}\n",
              ".list-inline>li {display: inline-block}\n",
              ".list-inline>li:not(:last-child)::after {content: \"\\00b7\"; padding: 0 .5ex}\n",
              "</style>\n",
              "<ol class=list-inline><li>'CGRsample_short.fa'</li><li>'CGRsample.fa'</li><li>'MethylSample.fa'</li><li>'MethylSamplePos.fa'</li><li>'PBMsample_short.fa'</li><li>'PBMsample_short.s'</li><li>'PBMsample.fa'</li><li>'PBMsample.s'</li><li>'SELEXsample_short.fa'</li><li>'SELEXsample_short.s'</li><li>'SELEXsample.fa'</li><li>'SELEXsample.s'</li><li>'SingleSeqsample.fa'</li><li>'SingleSeqsample.fa.MGW'</li></ol>\n"
            ]
          },
          "metadata": {
            "tags": []
          }
        }
      ]
    },
    {
      "cell_type": "markdown",
      "metadata": {
        "id": "BrzdoTvFiYtM",
        "colab_type": "text"
      },
      "source": [
        "#### From FASTA file"
      ]
    },
    {
      "cell_type": "markdown",
      "metadata": {
        "id": "G-L4iicAifLe",
        "colab_type": "text"
      },
      "source": [
        "To predict DNA shape features from a FASTA file"
      ]
    },
    {
      "cell_type": "code",
      "metadata": {
        "id": "CHz6K293gLYR",
        "colab_type": "code",
        "outputId": "a807c3b1-a76d-49f8-d6df-47103969bf44",
        "colab": {
          "base_uri": "https://localhost:8080/",
          "height": 357
        }
      },
      "source": [
        "file_cgr <- system.file(\"extdata\", \"CGRsample.fa\", package = \"DNAshapeR\")\n",
        "pred_cgr <- getShape(file_cgr)"
      ],
      "execution_count": 0,
      "outputs": [
        {
          "output_type": "stream",
          "text": [
            "Reading the input sequence......\n",
            "Reading the input sequence......\n",
            "Reading the input sequence......\n",
            "Reading the input sequence......\n",
            "Reading the input sequence......\n"
          ],
          "name": "stdout"
        },
        {
          "output_type": "stream",
          "text": [
            "Parsing files......\n",
            "\n",
            "Record length: 2000\n",
            "\n",
            "Record length: 1999\n",
            "\n",
            "Record length: 2000\n",
            "\n",
            "Record length: 1999\n",
            "\n",
            "Record length: 2000\n",
            "\n",
            "Done\n",
            "\n"
          ],
          "name": "stderr"
        }
      ]
    },
    {
      "cell_type": "markdown",
      "metadata": {
        "id": "stMi2qbaizu4",
        "colab_type": "text"
      },
      "source": [
        "##### Preview of the files"
      ]
    },
    {
      "cell_type": "markdown",
      "metadata": {
        "id": "jfDIMSIai2JR",
        "colab_type": "text"
      },
      "source": [
        "Head of the input file"
      ]
    },
    {
      "cell_type": "code",
      "metadata": {
        "id": "Kb_1nidXik1A",
        "colab_type": "code",
        "outputId": "59084ab3-6f1f-4457-a1bd-6ffb51796a11",
        "colab": {
          "base_uri": "https://localhost:8080/",
          "height": 34
        }
      },
      "source": [
        "system(paste(\"head -n 2\", file_cgr), intern = TRUE)"
      ],
      "execution_count": 0,
      "outputs": [
        {
          "output_type": "display_data",
          "data": {
            "text/plain": [
              "[1] \">seq1\"                                                                           \n",
              "[2] \"AAGCGTAAGATCCGATTTTTCCAGTTTGAGGAATAGAATTAATACTAGCTTGGTGAATAATACCATCGCGATCGCGTTGA\""
            ],
            "text/latex": "\\begin{enumerate*}\n\\item '>seq1'\n\\item 'AAGCGTAAGATCCGATTTTTCCAGTTTGAGGAATAGAATTAATACTAGCTTGGTGAATAATACCATCGCGATCGCGTTGA'\n\\end{enumerate*}\n",
            "text/markdown": "1. '&gt;seq1'\n2. 'AAGCGTAAGATCCGATTTTTCCAGTTTGAGGAATAGAATTAATACTAGCTTGGTGAATAATACCATCGCGATCGCGTTGA'\n\n\n",
            "text/html": [
              "<style>\n",
              ".list-inline {list-style: none; margin:0; padding: 0}\n",
              ".list-inline>li {display: inline-block}\n",
              ".list-inline>li:not(:last-child)::after {content: \"\\00b7\"; padding: 0 .5ex}\n",
              "</style>\n",
              "<ol class=list-inline><li>'&gt;seq1'</li><li>'AAGCGTAAGATCCGATTTTTCCAGTTTGAGGAATAGAATTAATACTAGCTTGGTGAATAATACCATCGCGATCGCGTTGA'</li></ol>\n"
            ]
          },
          "metadata": {
            "tags": []
          }
        }
      ]
    },
    {
      "cell_type": "markdown",
      "metadata": {
        "id": "c3hoOhN9rjwF",
        "colab_type": "text"
      },
      "source": [
        "List of generated files"
      ]
    },
    {
      "cell_type": "code",
      "metadata": {
        "id": "f7-J9V54j_I5",
        "colab_type": "code",
        "outputId": "cac3c7af-a33a-4f46-ff21-52658d1a0782",
        "colab": {
          "base_uri": "https://localhost:8080/",
          "height": 34
        }
      },
      "source": [
        "dir(path = ext_data, pattern = \"CGRsample.fa.\")"
      ],
      "execution_count": 0,
      "outputs": [
        {
          "output_type": "display_data",
          "data": {
            "text/plain": [
              "[1] \"CGRsample.fa.EP\"   \"CGRsample.fa.HelT\" \"CGRsample.fa.MGW\" \n",
              "[4] \"CGRsample.fa.ProT\" \"CGRsample.fa.Roll\""
            ],
            "text/latex": "\\begin{enumerate*}\n\\item 'CGRsample.fa.EP'\n\\item 'CGRsample.fa.HelT'\n\\item 'CGRsample.fa.MGW'\n\\item 'CGRsample.fa.ProT'\n\\item 'CGRsample.fa.Roll'\n\\end{enumerate*}\n",
            "text/markdown": "1. 'CGRsample.fa.EP'\n2. 'CGRsample.fa.HelT'\n3. 'CGRsample.fa.MGW'\n4. 'CGRsample.fa.ProT'\n5. 'CGRsample.fa.Roll'\n\n\n",
            "text/html": [
              "<style>\n",
              ".list-inline {list-style: none; margin:0; padding: 0}\n",
              ".list-inline>li {display: inline-block}\n",
              ".list-inline>li:not(:last-child)::after {content: \"\\00b7\"; padding: 0 .5ex}\n",
              "</style>\n",
              "<ol class=list-inline><li>'CGRsample.fa.EP'</li><li>'CGRsample.fa.HelT'</li><li>'CGRsample.fa.MGW'</li><li>'CGRsample.fa.ProT'</li><li>'CGRsample.fa.Roll'</li></ol>\n"
            ]
          },
          "metadata": {
            "tags": []
          }
        }
      ]
    },
    {
      "cell_type": "markdown",
      "metadata": {
        "id": "Ng-a9ZPDsCWz",
        "colab_type": "text"
      },
      "source": [
        "Head of selected output file"
      ]
    },
    {
      "cell_type": "code",
      "metadata": {
        "id": "86Ay7fl-r730",
        "colab_type": "code",
        "outputId": "874e870f-5ecb-428e-ee1e-9e2d42b0cda7",
        "colab": {
          "base_uri": "https://localhost:8080/",
          "height": 34
        }
      },
      "source": [
        "file_cgr_ep <- paste(file_cgr, \".EP\", sep=\"\")\n",
        "system(paste(\"head -n 2\", file_cgr_ep), intern = TRUE)"
      ],
      "execution_count": 0,
      "outputs": [
        {
          "output_type": "display_data",
          "data": {
            "text/plain": [
              "[1] \">seq1\"                                                                                                                                                                          \n",
              "[2] \"NA,NA,-5.65,-5.17,-5.03,-6.77,-7.23,-7.75,-6.56,-8.19,-7.65,-5.43,-5.10,-5.15,-7.97,-8.76,-10.80,-10.10,-9.65,-8.22,-5.75,-5.28,-6.86,-5.90,-9.29,-8.27,-7.57,-5.39,-6.99,-5.52\""
            ],
            "text/latex": "\\begin{enumerate*}\n\\item '>seq1'\n\\item 'NA,NA,-5.65,-5.17,-5.03,-6.77,-7.23,-7.75,-6.56,-8.19,-7.65,-5.43,-5.10,-5.15,-7.97,-8.76,-10.80,-10.10,-9.65,-8.22,-5.75,-5.28,-6.86,-5.90,-9.29,-8.27,-7.57,-5.39,-6.99,-5.52'\n\\end{enumerate*}\n",
            "text/markdown": "1. '&gt;seq1'\n2. 'NA,NA,-5.65,-5.17,-5.03,-6.77,-7.23,-7.75,-6.56,-8.19,-7.65,-5.43,-5.10,-5.15,-7.97,-8.76,-10.80,-10.10,-9.65,-8.22,-5.75,-5.28,-6.86,-5.90,-9.29,-8.27,-7.57,-5.39,-6.99,-5.52'\n\n\n",
            "text/html": [
              "<style>\n",
              ".list-inline {list-style: none; margin:0; padding: 0}\n",
              ".list-inline>li {display: inline-block}\n",
              ".list-inline>li:not(:last-child)::after {content: \"\\00b7\"; padding: 0 .5ex}\n",
              "</style>\n",
              "<ol class=list-inline><li>'&gt;seq1'</li><li>'NA,NA,-5.65,-5.17,-5.03,-6.77,-7.23,-7.75,-6.56,-8.19,-7.65,-5.43,-5.10,-5.15,-7.97,-8.76,-10.80,-10.10,-9.65,-8.22,-5.75,-5.28,-6.86,-5.90,-9.29,-8.27,-7.57,-5.39,-6.99,-5.52'</li></ol>\n"
            ]
          },
          "metadata": {
            "tags": []
          }
        }
      ]
    },
    {
      "cell_type": "markdown",
      "metadata": {
        "colab_type": "text",
        "id": "V2TaU-J0tSqq"
      },
      "source": [
        "#### From genomic intervals (e.g. TFs binding sites, CpG islands, replication origins, ...)"
      ]
    },
    {
      "cell_type": "markdown",
      "metadata": {
        "colab_type": "text",
        "id": "v206YA1stSqz"
      },
      "source": [
        "To predict DNA shape from genomic intervals stored as GRanges object, a reference genome is required. Several reference genomes are available within BioConductor as BSgenome objects (see <http://bioconductor.org/packages/release/bioc/html/BSgenome.html> for more information). For example, the sacCer3 release of the *S.Cerevisiae* genome can be retrieved."
      ]
    },
    {
      "cell_type": "code",
      "metadata": {
        "colab_type": "code",
        "outputId": "88e5c9b8-b07f-40ef-8b9f-aeac56e85dae",
        "id": "xozEa0bftSq4",
        "colab": {
          "base_uri": "https://localhost:8080/",
          "height": 377
        }
      },
      "source": [
        "# Takes about 6 minutes\n",
        "# Install Bioconductor packages\n",
        "install.packages(\"BiocManager\", quiet = TRUE)\n",
        "BiocManager::install(c(\"BSgenome.Scerevisiae.UCSC.sacCer3\"), quiet = TRUE)\n",
        "library(BSgenome.Scerevisiae.UCSC.sacCer3, quietly = TRUE)"
      ],
      "execution_count": 0,
      "outputs": [
        {
          "output_type": "stream",
          "text": [
            "Bioconductor version 3.10 (BiocManager 1.30.10), R 3.6.3 (2020-02-29)\n",
            "\n",
            "Installing package(s) 'BiocVersion', 'BSgenome.Scerevisiae.UCSC.sacCer3'\n",
            "\n",
            "also installing the dependencies ‘matrixStats’, ‘formatR’, ‘Biobase’, ‘DelayedArray’, ‘lambda.r’, ‘futile.options’, ‘SummarizedExperiment’, ‘futile.logger’, ‘snow’, ‘XML’, ‘GenomicAlignments’, ‘BiocParallel’, ‘Rhtslib’, ‘rtracklayer’, ‘Rsamtools’, ‘BSgenome’\n",
            "\n",
            "\n",
            "Old packages: 'DNAshapeR', 'curl', 'farver', 'pillar', 'pkgbuild', 'processx',\n",
            "  'ps', 'rex', 'rprojroot', 'tidyr'\n",
            "\n",
            "\n",
            "Attaching package: ‘Biostrings’\n",
            "\n",
            "\n",
            "The following object is masked from ‘package:base’:\n",
            "\n",
            "    strsplit\n",
            "\n",
            "\n"
          ],
          "name": "stderr"
        }
      ]
    },
    {
      "cell_type": "markdown",
      "metadata": {
        "id": "LeENR_Wxwnh4",
        "colab_type": "text"
      },
      "source": [
        "Given a reference genome, the `getFasta` function first extracts the DNA sequences based on the provided genomic coordinates, and then performs shape predictions within a user-defined window (of size equal to width, 100 bp in the example below) computed from the center of each genomic interval:"
      ]
    },
    {
      "cell_type": "code",
      "metadata": {
        "id": "vu-qC-nNwyhd",
        "colab_type": "code",
        "outputId": "360fcd7c-154c-47b4-a608-ee5ef5b8356a",
        "colab": {
          "base_uri": "https://localhost:8080/",
          "height": 393
        }
      },
      "source": [
        "# Create a query GRanges object\n",
        "gr <- GRanges(seqnames = c(\"chrI\"),\n",
        "              strand = c(\"+\", \"-\", \"+\"),\n",
        "              ranges = IRanges(start = c(100, 200, 300), width = 100))\n",
        "getFasta(gr, Scerevisiae, width = 100, filename = \"SCer.fa\")\n",
        "file_scer <- \"SCer.fa\"\n",
        "pred_scer <- getShape(file_scer)"
      ],
      "execution_count": 0,
      "outputs": [
        {
          "output_type": "stream",
          "text": [
            "Removed sequences #: integer(0)\n",
            "\n"
          ],
          "name": "stderr"
        },
        {
          "output_type": "stream",
          "text": [
            "Reading the input sequence......\n",
            "Reading the input sequence......\n",
            "Reading the input sequence......\n",
            "Reading the input sequence......\n",
            "Reading the input sequence......\n"
          ],
          "name": "stdout"
        },
        {
          "output_type": "stream",
          "text": [
            "Parsing files......\n",
            "\n",
            "Record length: 100\n",
            "\n",
            "Record length: 99\n",
            "\n",
            "Record length: 100\n",
            "\n",
            "Record length: 99\n",
            "\n",
            "Record length: 100\n",
            "\n",
            "Done\n",
            "\n"
          ],
          "name": "stderr"
        }
      ]
    },
    {
      "cell_type": "markdown",
      "metadata": {
        "colab_type": "text",
        "id": "2yIPL6PYtSrS"
      },
      "source": [
        "##### Preview of the files"
      ]
    },
    {
      "cell_type": "markdown",
      "metadata": {
        "colab_type": "text",
        "id": "hVKBxBv9tSrW"
      },
      "source": [
        "Head of the input file (with extracted sequences)"
      ]
    },
    {
      "cell_type": "code",
      "metadata": {
        "colab_type": "code",
        "outputId": "238bfcf3-c341-4b59-bc55-2853042a4346",
        "id": "k2afEcAItSrc",
        "colab": {
          "base_uri": "https://localhost:8080/",
          "height": 34
        }
      },
      "source": [
        "system(paste(\"head -n 2\", file_scer), intern = TRUE)"
      ],
      "execution_count": 0,
      "outputs": [
        {
          "output_type": "display_data",
          "data": {
            "text/plain": [
              "[1] \">seq1\"                                                                           \n",
              "[2] \"GGCCAACCTGTCTCTCAACTTACCCTCCATTACCCTGCCTCCACTCGTTACCCTGTCCCATTCAACCATACCACTCCGAA\""
            ],
            "text/latex": "\\begin{enumerate*}\n\\item '>seq1'\n\\item 'GGCCAACCTGTCTCTCAACTTACCCTCCATTACCCTGCCTCCACTCGTTACCCTGTCCCATTCAACCATACCACTCCGAA'\n\\end{enumerate*}\n",
            "text/markdown": "1. '&gt;seq1'\n2. 'GGCCAACCTGTCTCTCAACTTACCCTCCATTACCCTGCCTCCACTCGTTACCCTGTCCCATTCAACCATACCACTCCGAA'\n\n\n",
            "text/html": [
              "<style>\n",
              ".list-inline {list-style: none; margin:0; padding: 0}\n",
              ".list-inline>li {display: inline-block}\n",
              ".list-inline>li:not(:last-child)::after {content: \"\\00b7\"; padding: 0 .5ex}\n",
              "</style>\n",
              "<ol class=list-inline><li>'&gt;seq1'</li><li>'GGCCAACCTGTCTCTCAACTTACCCTCCATTACCCTGCCTCCACTCGTTACCCTGTCCCATTCAACCATACCACTCCGAA'</li></ol>\n"
            ]
          },
          "metadata": {
            "tags": []
          }
        }
      ]
    },
    {
      "cell_type": "markdown",
      "metadata": {
        "colab_type": "text",
        "id": "m5Kk2F2TtSrq"
      },
      "source": [
        "List of generated files"
      ]
    },
    {
      "cell_type": "code",
      "metadata": {
        "colab_type": "code",
        "outputId": "392fc147-54ec-438e-d05e-dd334c5e12f9",
        "id": "Olux9FvItSrt",
        "colab": {
          "base_uri": "https://localhost:8080/",
          "height": 34
        }
      },
      "source": [
        "dir(pattern = \"SCer.fa.\")"
      ],
      "execution_count": 0,
      "outputs": [
        {
          "output_type": "display_data",
          "data": {
            "text/plain": [
              "[1] \"SCer.fa.EP\"   \"SCer.fa.HelT\" \"SCer.fa.MGW\"  \"SCer.fa.ProT\" \"SCer.fa.Roll\""
            ],
            "text/latex": "\\begin{enumerate*}\n\\item 'SCer.fa.EP'\n\\item 'SCer.fa.HelT'\n\\item 'SCer.fa.MGW'\n\\item 'SCer.fa.ProT'\n\\item 'SCer.fa.Roll'\n\\end{enumerate*}\n",
            "text/markdown": "1. 'SCer.fa.EP'\n2. 'SCer.fa.HelT'\n3. 'SCer.fa.MGW'\n4. 'SCer.fa.ProT'\n5. 'SCer.fa.Roll'\n\n\n",
            "text/html": [
              "<style>\n",
              ".list-inline {list-style: none; margin:0; padding: 0}\n",
              ".list-inline>li {display: inline-block}\n",
              ".list-inline>li:not(:last-child)::after {content: \"\\00b7\"; padding: 0 .5ex}\n",
              "</style>\n",
              "<ol class=list-inline><li>'SCer.fa.EP'</li><li>'SCer.fa.HelT'</li><li>'SCer.fa.MGW'</li><li>'SCer.fa.ProT'</li><li>'SCer.fa.Roll'</li></ol>\n"
            ]
          },
          "metadata": {
            "tags": []
          }
        }
      ]
    },
    {
      "cell_type": "markdown",
      "metadata": {
        "colab_type": "text",
        "id": "0TTY6fuPtSr4"
      },
      "source": [
        "Head of selected output file"
      ]
    },
    {
      "cell_type": "code",
      "metadata": {
        "colab_type": "code",
        "outputId": "4ee50d12-6472-42fe-c80f-a0eba69a895a",
        "id": "n7W_SsqltSr7",
        "colab": {
          "base_uri": "https://localhost:8080/",
          "height": 72
        }
      },
      "source": [
        "file_scer_helt <- paste(file_scer, \".HelT\", sep=\"\")\n",
        "system(paste(\"head -n 2\", file_scer_helt), intern = TRUE)"
      ],
      "execution_count": 0,
      "outputs": [
        {
          "output_type": "display_data",
          "data": {
            "text/plain": [
              "[1] \">seq1\"                                                                                                                                                                           \n",
              "[2] \"NA,37.04,33.11,34.58,31.83,35.72,35.34,31.36,34.70,34.30,36.33,31.73,35.72,31.58,34.87,34.67,34.84,36.27,33.32,35.02,34.49,34.55,34.38,34.02,31.38,35.69,33.77,34.66,32.26,35.48\""
            ],
            "text/latex": "\\begin{enumerate*}\n\\item '>seq1'\n\\item 'NA,37.04,33.11,34.58,31.83,35.72,35.34,31.36,34.70,34.30,36.33,31.73,35.72,31.58,34.87,34.67,34.84,36.27,33.32,35.02,34.49,34.55,34.38,34.02,31.38,35.69,33.77,34.66,32.26,35.48'\n\\end{enumerate*}\n",
            "text/markdown": "1. '&gt;seq1'\n2. 'NA,37.04,33.11,34.58,31.83,35.72,35.34,31.36,34.70,34.30,36.33,31.73,35.72,31.58,34.87,34.67,34.84,36.27,33.32,35.02,34.49,34.55,34.38,34.02,31.38,35.69,33.77,34.66,32.26,35.48'\n\n\n",
            "text/html": [
              "<style>\n",
              ".list-inline {list-style: none; margin:0; padding: 0}\n",
              ".list-inline>li {display: inline-block}\n",
              ".list-inline>li:not(:last-child)::after {content: \"\\00b7\"; padding: 0 .5ex}\n",
              "</style>\n",
              "<ol class=list-inline><li>'&gt;seq1'</li><li>'NA,37.04,33.11,34.58,31.83,35.72,35.34,31.36,34.70,34.30,36.33,31.73,35.72,31.58,34.87,34.67,34.84,36.27,33.32,35.02,34.49,34.55,34.38,34.02,31.38,35.69,33.77,34.66,32.26,35.48'</li></ol>\n"
            ]
          },
          "metadata": {
            "tags": []
          }
        }
      ]
    },
    {
      "cell_type": "markdown",
      "metadata": {
        "colab_type": "text",
        "id": "qiSmzIQJrRSm"
      },
      "source": [
        "#### From public domain projects"
      ]
    },
    {
      "cell_type": "markdown",
      "metadata": {
        "colab_type": "text",
        "id": "ZcNo1WkrrRSt"
      },
      "source": [
        "The genomic intervals can also be obtained from public domain projects, including ENCODE, NCBI, Ensembl, etc. The AnnotationHub package (see <http://bioconductor.org/packages/release/bioc/html/AnnotationHub.html> for more information) provides an interface to retrieve genomic intervals from these multiple online project resources."
      ]
    },
    {
      "cell_type": "code",
      "metadata": {
        "colab_type": "code",
        "outputId": "4acec7fe-9762-4ef8-bca0-cd7f1b9971f5",
        "id": "6XG906AgrRSy",
        "colab": {
          "base_uri": "https://localhost:8080/",
          "height": 216
        }
      },
      "source": [
        "# Takes about 7 minutes\n",
        "# Install Bioconductor packages\n",
        "BiocManager::install(c(\"AnnotationHub\", \"BSgenome.Hsapiens.UCSC.hg19\"),\n",
        "                     quiet = TRUE)\n",
        "library(AnnotationHub, quietly = TRUE)\n",
        "library(BSgenome.Hsapiens.UCSC.hg19, quietly = TRUE)"
      ],
      "execution_count": 0,
      "outputs": [
        {
          "output_type": "stream",
          "text": [
            "Bioconductor version 3.10 (BiocManager 1.30.10), R 3.6.3 (2020-02-29)\n",
            "\n",
            "Installing package(s) 'AnnotationHub', 'BSgenome.Hsapiens.UCSC.hg19'\n",
            "\n",
            "also installing the dependencies ‘bit’, ‘httpuv’, ‘xtable’, ‘sourcetools’, ‘fastmap’, ‘bit64’, ‘blob’, ‘shiny’, ‘BiocFileCache’, ‘RSQLite’, ‘rappdirs’, ‘AnnotationDbi’, ‘interactiveDisplayBase’\n",
            "\n",
            "\n",
            "Old packages: 'DNAshapeR', 'curl', 'farver', 'pillar', 'pkgbuild', 'processx',\n",
            "  'ps', 'rex', 'rprojroot', 'tidyr'\n",
            "\n"
          ],
          "name": "stderr"
        }
      ]
    },
    {
      "cell_type": "markdown",
      "metadata": {
        "colab_type": "text",
        "id": "-B1-BKXmrRTE"
      },
      "source": [
        "The genomic intervals of interest can be selected progressively through the functions of `subset` and `query` with keywords, and can be subjected as an input of GRanges object to `getFasta` function."
      ]
    },
    {
      "cell_type": "code",
      "metadata": {
        "colab_type": "code",
        "outputId": "b2968e4a-b887-40fe-afd8-2de99496b036",
        "id": "S5CJS2rSrRTG",
        "colab": {
          "base_uri": "https://localhost:8080/",
          "height": 859
        }
      },
      "source": [
        "# Takes about 5 minutes\n",
        "ah <- AnnotationHub()\n",
        "ah <- subset(ah, species == \"Homo sapiens\")\n",
        "ah <- query(ah, c(\"H3K4me3\", \"Gm12878\", \"Roadmap\"))\n",
        "getFasta(ah[[1]], Hsapiens, width = 150, filename = \"HSap.fa\")\n",
        "file_hsap <- \"HSap.fa\"\n",
        "pred_hsap <- getShape(file_hsap)"
      ],
      "execution_count": 0,
      "outputs": [
        {
          "output_type": "stream",
          "text": [
            "Using temporary cache /tmp/Rtmp0Iv1WS/BiocFileCache\n",
            "\n",
            "snapshotDate(): 2019-10-29\n",
            "\n",
            "Using temporary cache /tmp/Rtmp0Iv1WS/BiocFileCache\n",
            "\n",
            "Using temporary cache /tmp/Rtmp0Iv1WS/BiocFileCache\n",
            "\n",
            "Using temporary cache /tmp/Rtmp0Iv1WS/BiocFileCache\n",
            "\n",
            "Using temporary cache /tmp/Rtmp0Iv1WS/BiocFileCache\n",
            "\n",
            "downloading 1 resources\n",
            "\n",
            "retrieving 1 resource\n",
            "\n",
            "Using temporary cache /tmp/Rtmp0Iv1WS/BiocFileCache\n",
            "\n",
            "loading from cache\n",
            "\n",
            "Using temporary cache /tmp/Rtmp0Iv1WS/BiocFileCache\n",
            "\n",
            "Using temporary cache /tmp/Rtmp0Iv1WS/BiocFileCache\n",
            "\n",
            "Using temporary cache /tmp/Rtmp0Iv1WS/BiocFileCache\n",
            "\n",
            "Removed sequences #: integer(0)\n",
            "\n"
          ],
          "name": "stderr"
        },
        {
          "output_type": "stream",
          "text": [
            "Reading the input sequence......\n",
            "Reading the input sequence......\n",
            "Reading the input sequence......\n",
            "Reading the input sequence......\n",
            "Reading the input sequence......\n"
          ],
          "name": "stdout"
        },
        {
          "output_type": "stream",
          "text": [
            "Parsing files......\n",
            "\n",
            "Record length: 150\n",
            "\n",
            "Record length: 149\n",
            "\n",
            "Record length: 150\n",
            "\n",
            "Record length: 149\n",
            "\n",
            "Record length: 150\n",
            "\n",
            "Done\n",
            "\n"
          ],
          "name": "stderr"
        }
      ]
    },
    {
      "cell_type": "markdown",
      "metadata": {
        "colab_type": "text",
        "id": "xCsrbdcArRTV"
      },
      "source": [
        "##### Preview of the files"
      ]
    },
    {
      "cell_type": "markdown",
      "metadata": {
        "colab_type": "text",
        "id": "rB7-eXRNrRTX"
      },
      "source": [
        "Head of the input file (with extracted sequences)"
      ]
    },
    {
      "cell_type": "code",
      "metadata": {
        "colab_type": "code",
        "outputId": "b61419f4-8984-41ee-c929-84b1c8c19d16",
        "id": "C0rT3cebrRTY",
        "colab": {
          "base_uri": "https://localhost:8080/",
          "height": 34
        }
      },
      "source": [
        "system(paste(\"head -n 2\", file_hsap), intern = TRUE)"
      ],
      "execution_count": 0,
      "outputs": [
        {
          "output_type": "display_data",
          "data": {
            "text/plain": [
              "[1] \">seq1\"                                                                           \n",
              "[2] \"GCCCCCGCCCCAACCACCACCCCCCCGCCGGCCCCCCCCCCGCCCCGCCCGCCCCCCCCCCCGCCCGCCCCCCCCCCGCC\""
            ],
            "text/latex": "\\begin{enumerate*}\n\\item '>seq1'\n\\item 'GCCCCCGCCCCAACCACCACCCCCCCGCCGGCCCCCCCCCCGCCCCGCCCGCCCCCCCCCCCGCCCGCCCCCCCCCCGCC'\n\\end{enumerate*}\n",
            "text/markdown": "1. '&gt;seq1'\n2. 'GCCCCCGCCCCAACCACCACCCCCCCGCCGGCCCCCCCCCCGCCCCGCCCGCCCCCCCCCCCGCCCGCCCCCCCCCCGCC'\n\n\n",
            "text/html": [
              "<style>\n",
              ".list-inline {list-style: none; margin:0; padding: 0}\n",
              ".list-inline>li {display: inline-block}\n",
              ".list-inline>li:not(:last-child)::after {content: \"\\00b7\"; padding: 0 .5ex}\n",
              "</style>\n",
              "<ol class=list-inline><li>'&gt;seq1'</li><li>'GCCCCCGCCCCAACCACCACCCCCCCGCCGGCCCCCCCCCCGCCCCGCCCGCCCCCCCCCCCGCCCGCCCCCCCCCCGCC'</li></ol>\n"
            ]
          },
          "metadata": {
            "tags": []
          }
        }
      ]
    },
    {
      "cell_type": "markdown",
      "metadata": {
        "colab_type": "text",
        "id": "51l7E-5HrRTi"
      },
      "source": [
        "List of generated files"
      ]
    },
    {
      "cell_type": "code",
      "metadata": {
        "colab_type": "code",
        "outputId": "e712ecb0-069b-4221-d884-acea51ff24db",
        "id": "ax9hFNx5rRTk",
        "colab": {
          "base_uri": "https://localhost:8080/",
          "height": 34
        }
      },
      "source": [
        "dir(pattern = \"HSap.fa.\")"
      ],
      "execution_count": 0,
      "outputs": [
        {
          "output_type": "display_data",
          "data": {
            "text/plain": [
              "[1] \"HSap.fa.EP\"   \"HSap.fa.HelT\" \"HSap.fa.MGW\"  \"HSap.fa.ProT\" \"HSap.fa.Roll\""
            ],
            "text/latex": "\\begin{enumerate*}\n\\item 'HSap.fa.EP'\n\\item 'HSap.fa.HelT'\n\\item 'HSap.fa.MGW'\n\\item 'HSap.fa.ProT'\n\\item 'HSap.fa.Roll'\n\\end{enumerate*}\n",
            "text/markdown": "1. 'HSap.fa.EP'\n2. 'HSap.fa.HelT'\n3. 'HSap.fa.MGW'\n4. 'HSap.fa.ProT'\n5. 'HSap.fa.Roll'\n\n\n",
            "text/html": [
              "<style>\n",
              ".list-inline {list-style: none; margin:0; padding: 0}\n",
              ".list-inline>li {display: inline-block}\n",
              ".list-inline>li:not(:last-child)::after {content: \"\\00b7\"; padding: 0 .5ex}\n",
              "</style>\n",
              "<ol class=list-inline><li>'HSap.fa.EP'</li><li>'HSap.fa.HelT'</li><li>'HSap.fa.MGW'</li><li>'HSap.fa.ProT'</li><li>'HSap.fa.Roll'</li></ol>\n"
            ]
          },
          "metadata": {
            "tags": []
          }
        }
      ]
    },
    {
      "cell_type": "markdown",
      "metadata": {
        "colab_type": "text",
        "id": "WoFFBLmArRTt"
      },
      "source": [
        "Head of selected output file"
      ]
    },
    {
      "cell_type": "code",
      "metadata": {
        "colab_type": "code",
        "outputId": "bc1cb405-d52f-4607-e93b-971278f75792",
        "id": "pAAwiDbmrRTu",
        "colab": {
          "base_uri": "https://localhost:8080/",
          "height": 34
        }
      },
      "source": [
        "file_hsap_mgw <- paste(file_hsap, \".MGW\", sep=\"\")\n",
        "system(paste(\"head -n 2\", file_hsap_mgw), intern = TRUE)"
      ],
      "execution_count": 0,
      "outputs": [
        {
          "output_type": "display_data",
          "data": {
            "text/plain": [
              "[1] \">seq1\"                                                                                                                                            \n",
              "[2] \"NA,NA,4.82,4.75,4.94,5.30,5.29,4.96,4.82,4.89,5.44,5.42,4.82,4.33,5.38,5.56,4.84,5.38,5.56,4.77,4.58,4.75,4.75,4.75,4.94,5.30,5.29,5.09,5.36,5.36\""
            ],
            "text/latex": "\\begin{enumerate*}\n\\item '>seq1'\n\\item 'NA,NA,4.82,4.75,4.94,5.30,5.29,4.96,4.82,4.89,5.44,5.42,4.82,4.33,5.38,5.56,4.84,5.38,5.56,4.77,4.58,4.75,4.75,4.75,4.94,5.30,5.29,5.09,5.36,5.36'\n\\end{enumerate*}\n",
            "text/markdown": "1. '&gt;seq1'\n2. 'NA,NA,4.82,4.75,4.94,5.30,5.29,4.96,4.82,4.89,5.44,5.42,4.82,4.33,5.38,5.56,4.84,5.38,5.56,4.77,4.58,4.75,4.75,4.75,4.94,5.30,5.29,5.09,5.36,5.36'\n\n\n",
            "text/html": [
              "<style>\n",
              ".list-inline {list-style: none; margin:0; padding: 0}\n",
              ".list-inline>li {display: inline-block}\n",
              ".list-inline>li:not(:last-child)::after {content: \"\\00b7\"; padding: 0 .5ex}\n",
              "</style>\n",
              "<ol class=list-inline><li>'&gt;seq1'</li><li>'NA,NA,4.82,4.75,4.94,5.30,5.29,4.96,4.82,4.89,5.44,5.42,4.82,4.33,5.38,5.56,4.84,5.38,5.56,4.77,4.58,4.75,4.75,4.75,4.94,5.30,5.29,5.09,5.36,5.36'</li></ol>\n"
            ]
          },
          "metadata": {
            "tags": []
          }
        }
      ]
    },
    {
      "cell_type": "markdown",
      "metadata": {
        "id": "nNR4bFybysLs",
        "colab_type": "text"
      },
      "source": [
        "#### From FASTA file with methylated DNA sequence"
      ]
    },
    {
      "cell_type": "markdown",
      "metadata": {
        "id": "Or4td-PZywAN",
        "colab_type": "text"
      },
      "source": [
        "To predict DNA shape features in the context of CpG methylation, one can prepare a FASTA file of sequence with symbol ‘Mg’: ‘M’ referring to cytosine of methylated CpG on the leading strand and ‘g’ referring the cytosine of methylated CpG on lagging strand. For example,\n",
        "```\n",
        ">seq1\n",
        "GTGTCACMgCGTCTATACG\n",
        "```\n",
        "notifying the cytosine at position 8<sup>th</sup> on the leading strand and the one at position 9<sup>th</sup> on the lagging strand are methylated."
      ]
    },
    {
      "cell_type": "code",
      "metadata": {
        "id": "xxX6LSDKyRbR",
        "colab_type": "code",
        "outputId": "fdac1013-68e6-463b-c389-3408374dfa9a",
        "colab": {
          "base_uri": "https://localhost:8080/",
          "height": 304
        }
      },
      "source": [
        "file_methyl <- system.file(\"extdata\", \"MethylSample.fa\", package = \"DNAshapeR\")\n",
        "pred_methyl <- getShape(file_methyl, methylate = TRUE)"
      ],
      "execution_count": 0,
      "outputs": [
        {
          "output_type": "stream",
          "text": [
            "Reading the input sequence......\n",
            "Reading the input sequence......\n",
            "Reading the input sequence......\n",
            "Reading the input sequence......\n"
          ],
          "name": "stdout"
        },
        {
          "output_type": "stream",
          "text": [
            "Parsing files......\n",
            "\n",
            "Record length: 19\n",
            "\n",
            "Record length: 18\n",
            "\n",
            "Record length: 19\n",
            "\n",
            "Record length: 18\n",
            "\n",
            "Done\n",
            "\n"
          ],
          "name": "stderr"
        }
      ]
    },
    {
      "cell_type": "markdown",
      "metadata": {
        "colab_type": "text",
        "id": "KltS6Jmr1Te2"
      },
      "source": [
        "##### Preview of the files"
      ]
    },
    {
      "cell_type": "markdown",
      "metadata": {
        "colab_type": "text",
        "id": "IJxtFAuI1TfB"
      },
      "source": [
        "Head of the input file"
      ]
    },
    {
      "cell_type": "code",
      "metadata": {
        "colab_type": "code",
        "outputId": "b0f72d9b-7563-4394-9f9f-c00fdfb25973",
        "id": "DA4Ezby11TfG",
        "colab": {
          "base_uri": "https://localhost:8080/",
          "height": 34
        }
      },
      "source": [
        "system(paste(\"head -n 2\", file_methyl), intern = TRUE)"
      ],
      "execution_count": 0,
      "outputs": [
        {
          "output_type": "display_data",
          "data": {
            "text/plain": [
              "[1] \">seq1\"               \"GTGTCACMgCGTCTATACG\""
            ],
            "text/latex": "\\begin{enumerate*}\n\\item '>seq1'\n\\item 'GTGTCACMgCGTCTATACG'\n\\end{enumerate*}\n",
            "text/markdown": "1. '&gt;seq1'\n2. 'GTGTCACMgCGTCTATACG'\n\n\n",
            "text/html": [
              "<style>\n",
              ".list-inline {list-style: none; margin:0; padding: 0}\n",
              ".list-inline>li {display: inline-block}\n",
              ".list-inline>li:not(:last-child)::after {content: \"\\00b7\"; padding: 0 .5ex}\n",
              "</style>\n",
              "<ol class=list-inline><li>'&gt;seq1'</li><li>'GTGTCACMgCGTCTATACG'</li></ol>\n"
            ]
          },
          "metadata": {
            "tags": []
          }
        }
      ]
    },
    {
      "cell_type": "markdown",
      "metadata": {
        "colab_type": "text",
        "id": "tEzr3-E01TfY"
      },
      "source": [
        "List of generated files"
      ]
    },
    {
      "cell_type": "code",
      "metadata": {
        "colab_type": "code",
        "outputId": "6baa4f48-1489-4640-dc20-954c496b0f64",
        "id": "qS2SpG471TfZ",
        "colab": {
          "base_uri": "https://localhost:8080/",
          "height": 34
        }
      },
      "source": [
        "dir(path = ext_data, pattern = \"MethylSample_methylated.fa.\")"
      ],
      "execution_count": 0,
      "outputs": [
        {
          "output_type": "display_data",
          "data": {
            "text/plain": [
              "[1] \"MethylSample_methylated.fa.HelT\" \"MethylSample_methylated.fa.MGW\" \n",
              "[3] \"MethylSample_methylated.fa.ProT\" \"MethylSample_methylated.fa.Roll\""
            ],
            "text/latex": "\\begin{enumerate*}\n\\item 'MethylSample\\_methylated.fa.HelT'\n\\item 'MethylSample\\_methylated.fa.MGW'\n\\item 'MethylSample\\_methylated.fa.ProT'\n\\item 'MethylSample\\_methylated.fa.Roll'\n\\end{enumerate*}\n",
            "text/markdown": "1. 'MethylSample_methylated.fa.HelT'\n2. 'MethylSample_methylated.fa.MGW'\n3. 'MethylSample_methylated.fa.ProT'\n4. 'MethylSample_methylated.fa.Roll'\n\n\n",
            "text/html": [
              "<style>\n",
              ".list-inline {list-style: none; margin:0; padding: 0}\n",
              ".list-inline>li {display: inline-block}\n",
              ".list-inline>li:not(:last-child)::after {content: \"\\00b7\"; padding: 0 .5ex}\n",
              "</style>\n",
              "<ol class=list-inline><li>'MethylSample_methylated.fa.HelT'</li><li>'MethylSample_methylated.fa.MGW'</li><li>'MethylSample_methylated.fa.ProT'</li><li>'MethylSample_methylated.fa.Roll'</li></ol>\n"
            ]
          },
          "metadata": {
            "tags": []
          }
        }
      ]
    },
    {
      "cell_type": "markdown",
      "metadata": {
        "colab_type": "text",
        "id": "M81gEpYY1Tfn"
      },
      "source": [
        "Head of selected output file"
      ]
    },
    {
      "cell_type": "code",
      "metadata": {
        "colab_type": "code",
        "outputId": "7a6ca25e-5d5e-4506-9d3a-1dec1419418b",
        "id": "tlVc9kgu1Tfp",
        "colab": {
          "base_uri": "https://localhost:8080/",
          "height": 34
        }
      },
      "source": [
        "file_methyl_prot <- paste(ext_data, \"/MethylSample_methylated.fa.ProT\", sep=\"\")\n",
        "system(paste(\"head -n 2\", file_methyl_prot), intern = TRUE)"
      ],
      "execution_count": 0,
      "outputs": [
        {
          "output_type": "display_data",
          "data": {
            "text/plain": [
              "[1] \">seq1\"                                                                                                \n",
              "[2] \"NA,NA,-7.25,-8.28,-6.82,-7.36,-4.35,-9.67,-8.89,-4.10,-7.43,-8.81,-3.62,-7.03,-7.69,-7.88,-9.05,NA,NA\""
            ],
            "text/latex": "\\begin{enumerate*}\n\\item '>seq1'\n\\item 'NA,NA,-7.25,-8.28,-6.82,-7.36,-4.35,-9.67,-8.89,-4.10,-7.43,-8.81,-3.62,-7.03,-7.69,-7.88,-9.05,NA,NA'\n\\end{enumerate*}\n",
            "text/markdown": "1. '&gt;seq1'\n2. 'NA,NA,-7.25,-8.28,-6.82,-7.36,-4.35,-9.67,-8.89,-4.10,-7.43,-8.81,-3.62,-7.03,-7.69,-7.88,-9.05,NA,NA'\n\n\n",
            "text/html": [
              "<style>\n",
              ".list-inline {list-style: none; margin:0; padding: 0}\n",
              ".list-inline>li {display: inline-block}\n",
              ".list-inline>li:not(:last-child)::after {content: \"\\00b7\"; padding: 0 .5ex}\n",
              "</style>\n",
              "<ol class=list-inline><li>'&gt;seq1'</li><li>'NA,NA,-7.25,-8.28,-6.82,-7.36,-4.35,-9.67,-8.89,-4.10,-7.43,-8.81,-3.62,-7.03,-7.69,-7.88,-9.05,NA,NA'</li></ol>\n"
            ]
          },
          "metadata": {
            "tags": []
          }
        }
      ]
    },
    {
      "cell_type": "markdown",
      "metadata": {
        "id": "PfxN1mdZ25c6",
        "colab_type": "text"
      },
      "source": [
        "#### From FASTA and methylated position files"
      ]
    },
    {
      "cell_type": "markdown",
      "metadata": {
        "id": "AOVt2Jti285l",
        "colab_type": "text"
      },
      "source": [
        "To predict DNA shape features in the context of CpG methylation, in addition to providing regular FASTA file (without symbolizing ‘Mg’) one can provide an additional input file identifying methylated positions. For example,\n",
        "```\n",
        ">seq1\n",
        "4,16\n",
        "```\n",
        "notifying the cytosine at position 4<sup>th</sup> and 16<sup>th</sup> on leading strand, and 5<sup>th</sup> and 17<sup>th</sup> on lagging strand are methylated."
      ]
    },
    {
      "cell_type": "code",
      "metadata": {
        "id": "SVDCNVM92SEE",
        "colab_type": "code",
        "outputId": "f496cec0-79c2-4ea7-f4ee-5651b1726643",
        "colab": {
          "base_uri": "https://localhost:8080/",
          "height": 304
        }
      },
      "source": [
        "file_single <- system.file(\"extdata\", \"SingleSeqsample.fa\",\n",
        "                           package = \"DNAshapeR\")\n",
        "file_pos <- system.file(\"extdata\", \"MethylSamplePos.fa\",\n",
        "                        package = \"DNAshapeR\")\n",
        "pred_pos <- getShape(file_single, methylate = TRUE,\n",
        "                     methylatedPosFile = file_pos)"
      ],
      "execution_count": 0,
      "outputs": [
        {
          "output_type": "stream",
          "text": [
            "Reading the input sequence......\n",
            "Reading the input sequence......\n",
            "Reading the input sequence......\n",
            "Reading the input sequence......\n"
          ],
          "name": "stdout"
        },
        {
          "output_type": "stream",
          "text": [
            "Parsing files......\n",
            "\n",
            "Record length: 24\n",
            "\n",
            "Record length: 23\n",
            "\n",
            "Record length: 24\n",
            "\n",
            "Record length: 23\n",
            "\n",
            "Done\n",
            "\n"
          ],
          "name": "stderr"
        }
      ]
    },
    {
      "cell_type": "markdown",
      "metadata": {
        "id": "7vPRMJfXDKLl",
        "colab_type": "text"
      },
      "source": [
        "##### Preview of the files"
      ]
    },
    {
      "cell_type": "markdown",
      "metadata": {
        "colab_type": "text",
        "id": "ujOyp4jLuHrK"
      },
      "source": [
        "Head of the main input file"
      ]
    },
    {
      "cell_type": "code",
      "metadata": {
        "colab_type": "code",
        "outputId": "06e1e715-0657-440e-876c-dd83be055563",
        "id": "n0CTSc9GuHrU",
        "colab": {
          "base_uri": "https://localhost:8080/",
          "height": 34
        }
      },
      "source": [
        "system(paste(\"head -n 2\", file_single), intern = TRUE)"
      ],
      "execution_count": 0,
      "outputs": [
        {
          "output_type": "display_data",
          "data": {
            "text/plain": [
              "[1] \">seq1\"                    \"AAGCGTAAGATCAAGCGTAAGATC\""
            ],
            "text/latex": "\\begin{enumerate*}\n\\item '>seq1'\n\\item 'AAGCGTAAGATCAAGCGTAAGATC'\n\\end{enumerate*}\n",
            "text/markdown": "1. '&gt;seq1'\n2. 'AAGCGTAAGATCAAGCGTAAGATC'\n\n\n",
            "text/html": [
              "<style>\n",
              ".list-inline {list-style: none; margin:0; padding: 0}\n",
              ".list-inline>li {display: inline-block}\n",
              ".list-inline>li:not(:last-child)::after {content: \"\\00b7\"; padding: 0 .5ex}\n",
              "</style>\n",
              "<ol class=list-inline><li>'&gt;seq1'</li><li>'AAGCGTAAGATCAAGCGTAAGATC'</li></ol>\n"
            ]
          },
          "metadata": {
            "tags": []
          }
        }
      ]
    },
    {
      "cell_type": "markdown",
      "metadata": {
        "id": "73jkkPi_u-Jx",
        "colab_type": "text"
      },
      "source": [
        "Head of the additional input file"
      ]
    },
    {
      "cell_type": "code",
      "metadata": {
        "id": "28kPa65NvDrY",
        "colab_type": "code",
        "outputId": "18767ab7-7633-48b5-b4b5-7b0bba957225",
        "colab": {
          "base_uri": "https://localhost:8080/",
          "height": 34
        }
      },
      "source": [
        "system(paste(\"head -n 2\", file_pos), intern = TRUE)"
      ],
      "execution_count": 0,
      "outputs": [
        {
          "output_type": "display_data",
          "data": {
            "text/plain": [
              "[1] \">seq1\" \"4,16\" "
            ],
            "text/latex": "\\begin{enumerate*}\n\\item '>seq1'\n\\item '4,16'\n\\end{enumerate*}\n",
            "text/markdown": "1. '&gt;seq1'\n2. '4,16'\n\n\n",
            "text/html": [
              "<style>\n",
              ".list-inline {list-style: none; margin:0; padding: 0}\n",
              ".list-inline>li {display: inline-block}\n",
              ".list-inline>li:not(:last-child)::after {content: \"\\00b7\"; padding: 0 .5ex}\n",
              "</style>\n",
              "<ol class=list-inline><li>'&gt;seq1'</li><li>'4,16'</li></ol>\n"
            ]
          },
          "metadata": {
            "tags": []
          }
        }
      ]
    },
    {
      "cell_type": "markdown",
      "metadata": {
        "colab_type": "text",
        "id": "nOiYwM5ruHro"
      },
      "source": [
        "List of generated files"
      ]
    },
    {
      "cell_type": "code",
      "metadata": {
        "colab_type": "code",
        "outputId": "b94b0919-56d0-4011-bee6-821f9372e39f",
        "id": "YBsPymsguHrq",
        "colab": {
          "base_uri": "https://localhost:8080/",
          "height": 34
        }
      },
      "source": [
        "dir(path = ext_data, pattern = \"SingleSeqsample_methylated.fa.\")"
      ],
      "execution_count": 0,
      "outputs": [
        {
          "output_type": "display_data",
          "data": {
            "text/plain": [
              "[1] \"SingleSeqsample_methylated.fa.HelT\" \"SingleSeqsample_methylated.fa.MGW\" \n",
              "[3] \"SingleSeqsample_methylated.fa.ProT\" \"SingleSeqsample_methylated.fa.Roll\""
            ],
            "text/latex": "\\begin{enumerate*}\n\\item 'SingleSeqsample\\_methylated.fa.HelT'\n\\item 'SingleSeqsample\\_methylated.fa.MGW'\n\\item 'SingleSeqsample\\_methylated.fa.ProT'\n\\item 'SingleSeqsample\\_methylated.fa.Roll'\n\\end{enumerate*}\n",
            "text/markdown": "1. 'SingleSeqsample_methylated.fa.HelT'\n2. 'SingleSeqsample_methylated.fa.MGW'\n3. 'SingleSeqsample_methylated.fa.ProT'\n4. 'SingleSeqsample_methylated.fa.Roll'\n\n\n",
            "text/html": [
              "<style>\n",
              ".list-inline {list-style: none; margin:0; padding: 0}\n",
              ".list-inline>li {display: inline-block}\n",
              ".list-inline>li:not(:last-child)::after {content: \"\\00b7\"; padding: 0 .5ex}\n",
              "</style>\n",
              "<ol class=list-inline><li>'SingleSeqsample_methylated.fa.HelT'</li><li>'SingleSeqsample_methylated.fa.MGW'</li><li>'SingleSeqsample_methylated.fa.ProT'</li><li>'SingleSeqsample_methylated.fa.Roll'</li></ol>\n"
            ]
          },
          "metadata": {
            "tags": []
          }
        }
      ]
    },
    {
      "cell_type": "markdown",
      "metadata": {
        "colab_type": "text",
        "id": "Bx6J9i9muHr7"
      },
      "source": [
        "Head of selected output file"
      ]
    },
    {
      "cell_type": "code",
      "metadata": {
        "colab_type": "code",
        "outputId": "1dea3f46-319f-47ef-a56b-cc587b5ed368",
        "id": "uyPRmI4zuHr8",
        "colab": {
          "base_uri": "https://localhost:8080/",
          "height": 34
        }
      },
      "source": [
        "file_pos_roll <- paste(ext_data, \"/SingleSeqsample_methylated.fa.Roll\", sep=\"\")\n",
        "system(paste(\"head -n 2\", file_pos_roll), intern = TRUE)"
      ],
      "execution_count": 0,
      "outputs": [
        {
          "output_type": "display_data",
          "data": {
            "text/plain": [
              "[1] \">seq1\"                                                                                                                         \n",
              "[2] \"NA,-2.03,-4.84,9.38,-4.05,5.68,-2.82,-3.23,-2.49,-5.10,-0.67,6.06,-2.98,-1.80,-4.84,9.38,-4.05,5.68,-2.82,-3.23,-2.49,-5.53,NA\""
            ],
            "text/latex": "\\begin{enumerate*}\n\\item '>seq1'\n\\item 'NA,-2.03,-4.84,9.38,-4.05,5.68,-2.82,-3.23,-2.49,-5.10,-0.67,6.06,-2.98,-1.80,-4.84,9.38,-4.05,5.68,-2.82,-3.23,-2.49,-5.53,NA'\n\\end{enumerate*}\n",
            "text/markdown": "1. '&gt;seq1'\n2. 'NA,-2.03,-4.84,9.38,-4.05,5.68,-2.82,-3.23,-2.49,-5.10,-0.67,6.06,-2.98,-1.80,-4.84,9.38,-4.05,5.68,-2.82,-3.23,-2.49,-5.53,NA'\n\n\n",
            "text/html": [
              "<style>\n",
              ".list-inline {list-style: none; margin:0; padding: 0}\n",
              ".list-inline>li {display: inline-block}\n",
              ".list-inline>li:not(:last-child)::after {content: \"\\00b7\"; padding: 0 .5ex}\n",
              "</style>\n",
              "<ol class=list-inline><li>'&gt;seq1'</li><li>'NA,-2.03,-4.84,9.38,-4.05,5.68,-2.82,-3.23,-2.49,-5.10,-0.67,6.06,-2.98,-1.80,-4.84,9.38,-4.05,5.68,-2.82,-3.23,-2.49,-5.53,NA'</li></ol>\n"
            ]
          },
          "metadata": {
            "tags": []
          }
        }
      ]
    },
    {
      "cell_type": "markdown",
      "metadata": {
        "id": "thNYPj0M5D_i",
        "colab_type": "text"
      },
      "source": [
        "### Visualize DNA shape prediction"
      ]
    },
    {
      "cell_type": "markdown",
      "metadata": {
        "id": "_c07x7995KON",
        "colab_type": "text"
      },
      "source": [
        "DNAshapeR can be used to generate various graphical representations for further analyses. The prediction result can be visualized in the form of scatter plots (Comoglio, et al., 2015), heat maps (Yang, et al., 2014), or genome browser tracks (Chiu, et al., 2015)."
      ]
    },
    {
      "cell_type": "markdown",
      "metadata": {
        "id": "KVLrQllA5Y6K",
        "colab_type": "text"
      },
      "source": [
        "#### Ensemble representation: metashape plot"
      ]
    },
    {
      "cell_type": "code",
      "metadata": {
        "id": "7ZpC-qvq4icQ",
        "colab_type": "code",
        "outputId": "5fdb455e-deff-443f-d49f-12b2ee9987b7",
        "colab": {
          "base_uri": "https://localhost:8080/",
          "height": 437
        }
      },
      "source": [
        "plotShape(pred_cgr$MGW)"
      ],
      "execution_count": 0,
      "outputs": [
        {
          "output_type": "display_data",
          "data": {
            "image/png": "[encoded data removed]",
            "text/plain": [
              "plot without title"
            ]
          },
          "metadata": {
            "tags": [],
            "image/png": {
              "width": 420,
              "height": 420
            },
            "text/plain": {
              "width": 420,
              "height": 420
            }
          }
        }
      ]
    },
    {
      "cell_type": "markdown",
      "metadata": {
        "id": "Cn15Ks34EXMf",
        "colab_type": "text"
      },
      "source": [
        "#### Ensemble representation: heat map"
      ]
    },
    {
      "cell_type": "markdown",
      "metadata": {
        "id": "76jbx7NPEbbR",
        "colab_type": "text"
      },
      "source": [
        "The prediction result can be visualized in the heatmap of DNA shape features."
      ]
    },
    {
      "cell_type": "code",
      "metadata": {
        "id": "nk3ddCCa5xof",
        "colab_type": "code",
        "outputId": "a2b91773-8d9d-4ddb-a02a-556817fed905",
        "colab": {
          "base_uri": "https://localhost:8080/",
          "height": 519
        }
      },
      "source": [
        "library(fields, quietly = TRUE)"
      ],
      "execution_count": 0,
      "outputs": [
        {
          "output_type": "stream",
          "text": [
            "Spam version 2.5-1 (2019-12-12) is loaded.\n",
            "Type 'help( Spam)' or 'demo( spam)' for a short introduction \n",
            "and overview of this package.\n",
            "Help for individual functions is also obtained by adding the\n",
            "suffix '.spam' to the function name, e.g. 'help( chol.spam)'.\n",
            "\n",
            "\n",
            "Attaching package: ‘spam’\n",
            "\n",
            "\n",
            "The following object is masked from ‘package:AnnotationHub’:\n",
            "\n",
            "    display\n",
            "\n",
            "\n",
            "The following object is masked from ‘package:stats4’:\n",
            "\n",
            "    mle\n",
            "\n",
            "\n",
            "The following objects are masked from ‘package:base’:\n",
            "\n",
            "    backsolve, forwardsolve\n",
            "\n",
            "\n",
            "See https://github.com/NCAR/Fields for\n",
            " an extensive vignette, other supplements and source code \n",
            "\n"
          ],
          "name": "stderr"
        }
      ]
    },
    {
      "cell_type": "code",
      "metadata": {
        "id": "LsyqKG3MD1-z",
        "colab_type": "code",
        "outputId": "0db8df82-d31e-40db-e31a-84b9de92b9d2",
        "colab": {
          "base_uri": "https://localhost:8080/",
          "height": 437
        }
      },
      "source": [
        "heatShape(pred_cgr$ProT, 20)"
      ],
      "execution_count": 0,
      "outputs": [
        {
          "output_type": "display_data",
          "data": {
            "image/png": "[encoded data removed]",
            "text/plain": [
              "plot without title"
            ]
          },
          "metadata": {
            "tags": [],
            "image/png": {
              "width": 420,
              "height": 420
            },
            "text/plain": {
              "width": 420,
              "height": 420
            }
          }
        }
      ]
    },
    {
      "cell_type": "markdown",
      "metadata": {
        "id": "29xPP_mMHfSD",
        "colab_type": "text"
      },
      "source": [
        "#### Individual representation: genome browser-like tracks"
      ]
    },
    {
      "cell_type": "markdown",
      "metadata": {
        "id": "aZX6QqlxHj07",
        "colab_type": "text"
      },
      "source": [
        "The prediction result can be visualized in the form of genome browser tracks.\n",
        "\n",
        "*Note that the input data should only contain one sequence."
      ]
    },
    {
      "cell_type": "code",
      "metadata": {
        "id": "OoPWNQEwoXtZ",
        "colab_type": "code",
        "outputId": "51e1de8c-371e-40c3-a4b4-efda7392a7a0",
        "colab": {
          "base_uri": "https://localhost:8080/",
          "height": 357
        }
      },
      "source": [
        "pred_single <- getShape(file_single)"
      ],
      "execution_count": 0,
      "outputs": [
        {
          "output_type": "stream",
          "text": [
            "Reading the input sequence......\n",
            "Reading the input sequence......\n",
            "Reading the input sequence......\n",
            "Reading the input sequence......\n",
            "Reading the input sequence......\n"
          ],
          "name": "stdout"
        },
        {
          "output_type": "stream",
          "text": [
            "Parsing files......\n",
            "\n",
            "Record length: 24\n",
            "\n",
            "Record length: 23\n",
            "\n",
            "Record length: 24\n",
            "\n",
            "Record length: 23\n",
            "\n",
            "Record length: 24\n",
            "\n",
            "Done\n",
            "\n"
          ],
          "name": "stderr"
        }
      ]
    },
    {
      "cell_type": "code",
      "metadata": {
        "id": "nuxfIkjdEo1i",
        "colab_type": "code",
        "outputId": "aaa6cc15-c4f4-4fc2-b2d3-4efd6b8712e9",
        "colab": {
          "base_uri": "https://localhost:8080/",
          "height": 437
        }
      },
      "source": [
        "trackShape(file_single, pred_single)"
      ],
      "execution_count": 0,
      "outputs": [
        {
          "output_type": "display_data",
          "data": {
            "image/png": "[encoded data removed]",
            "text/plain": [
              "plot without title"
            ]
          },
          "metadata": {
            "tags": [],
            "image/png": {
              "width": 420,
              "height": 420
            },
            "text/plain": {
              "width": 420,
              "height": 420
            }
          }
        }
      ]
    },
    {
      "cell_type": "markdown",
      "metadata": {
        "id": "6eZ-m9vfIKHE",
        "colab_type": "text"
      },
      "source": [
        "### Encode sequence and shape features"
      ]
    },
    {
      "cell_type": "markdown",
      "metadata": {
        "id": "9ETQ-0qlIU31",
        "colab_type": "text"
      },
      "source": [
        "DNAshapeR can be used to generate feature vectors for a user-defined model. These models can consist of either sequence features (1-mer, 2-mer, 3-mer), shape features (MGW, HelT, Rise, Roll, Shift, Slide, Tilt, Buckle, Opening, ProT, Shear, Stagger, Stretchand EP), or any combination of those two. For 1-mer features, sequence is encoded in form of four binary numbers (i.e., in terms of 1-mers, 1000 for adenine, 0100 for cytosine, 0010 for guanine, and 0001 for thymine) at each nucleotide position (Zhou, et al., 2015). The encoding function of the DNAshapeR package enables the determination of higher order sequence features, for example, 2-mers and 3-mers (16 and 64 binary features at each position, respectively).\n",
        "\n",
        "The user can also choose to include second order shape features in the generated feature vector. The second order shape features are product terms of values for the same category of shape features (MGW, HelT, Rise, Roll, Shift, Slide, Tilt, Buckle, Opening, ProT, Shear, Stagger, Stretch or EP) at adjacent positions. They were introduced to encode the tendency of, for instance, a narrow minor groove region exhibiting an enhanced narrowing if adjacent positions are also characterized by a narrow groove (Zhou, et al., 2015). The feature encoding function of DNAshapeR enables the generation of any subset of these features, either only a selected shape category or first order shape features, and any combination with shape or sequence features. The result of feature encoding for each sequence is a chimera feature vector."
      ]
    },
    {
      "cell_type": "markdown",
      "metadata": {
        "id": "59Xt2_R4Kxiz",
        "colab_type": "text"
      },
      "source": [
        "#### Encoding process"
      ]
    },
    {
      "cell_type": "markdown",
      "metadata": {
        "id": "d4rpUreWK2oA",
        "colab_type": "text"
      },
      "source": [
        "A feature type vector should be defined before encoding. The vector can be any combination of characters of “k-mer”, “n-shape”, “n-MGW”, “n-ProT”, “n-Roll”, “n-HelT”, “n-Rise”, “n-Shift”, “n-Slide”, “n-Tilt”, “n-Buckle”, “n-Opening”, “n-Shear”, “n-Stagger”, “n-Stretch”, “n-EP” (k, n are integers) where “1-shape” refers to first order and “2-shape” to second order shape features. Notice that n-shape represents the default 4 shape features (MGW, ProT, Roll and HelT)."
      ]
    },
    {
      "cell_type": "code",
      "metadata": {
        "id": "baLgzo3TH3I7",
        "colab_type": "code",
        "outputId": "ec5c4aca-6dd0-4b11-d6ba-bcf43cbebe39",
        "colab": {
          "base_uri": "https://localhost:8080/",
          "height": 420
        }
      },
      "source": [
        "library(Biostrings, quietly = TRUE)\n",
        "file_pbm <- system.file(\"extdata\", \"PBMsample_short.fa\", package = \"DNAshapeR\")\n",
        "pred_pbm <- getShape(file_pbm)\n",
        "featureType <- c(\"1-mer\", \"1-shape\")\n",
        "featureVector <- encodeSeqShape(file_pbm, pred_pbm, featureType)\n",
        "head(featureVector, 2)"
      ],
      "execution_count": 0,
      "outputs": [
        {
          "output_type": "stream",
          "text": [
            "Reading the input sequence......\n",
            "Reading the input sequence......\n",
            "Reading the input sequence......\n",
            "Reading the input sequence......\n",
            "Reading the input sequence......\n"
          ],
          "name": "stdout"
        },
        {
          "output_type": "stream",
          "text": [
            "Parsing files......\n",
            "\n",
            "Record length: 36\n",
            "\n",
            "Record length: 35\n",
            "\n",
            "Record length: 36\n",
            "\n",
            "Record length: 35\n",
            "\n",
            "Record length: 36\n",
            "\n",
            "Done\n",
            "\n"
          ],
          "name": "stderr"
        },
        {
          "output_type": "display_data",
          "data": {
            "text/plain": [
              "     [,1] [,2] [,3] [,4] [,5] [,6] [,7] [,8] [,9] [,10] [,11] [,12]    \n",
              "seq1 0    0    1    0    0    0    1    0    0    0     ⋯     0.6272855\n",
              "seq2 0    1    0    0    0    0    1    0    0    0     ⋯     0.5879044\n",
              "     [,13]      [,14]     [,15]     [,16]      [,17]     [,18]     [,19]    \n",
              "seq1 0.49789030 0.6497890 0.5007032 0.04500703 0.8241913 0.4852321 0.5583685\n",
              "seq2 0.04922644 0.8241913 0.4852321 0.55836850 0.3094233 0.5991561 0.6990155\n",
              "     [,20]     [,21]     \n",
              "seq1 0.3066104 0.55836850\n",
              "seq2 0.4810127 0.03797468"
            ],
            "text/latex": "A matrix: 2 × 274 of type dbl\n\\begin{tabular}{r|lllllllllllllllllllll}\n\tseq1 & 0 & 0 & 1 & 0 & 0 & 0 & 1 & 0 & 0 & 0 & ⋯ & 0.6272855 & 0.49789030 & 0.6497890 & 0.5007032 & 0.04500703 & 0.8241913 & 0.4852321 & 0.5583685 & 0.3066104 & 0.55836850\\\\\n\tseq2 & 0 & 1 & 0 & 0 & 0 & 0 & 1 & 0 & 0 & 0 & ⋯ & 0.5879044 & 0.04922644 & 0.8241913 & 0.4852321 & 0.55836850 & 0.3094233 & 0.5991561 & 0.6990155 & 0.4810127 & 0.03797468\\\\\n\\end{tabular}\n",
            "text/markdown": "\nA matrix: 2 × 274 of type dbl\n\n| seq1 | 0 | 0 | 1 | 0 | 0 | 0 | 1 | 0 | 0 | 0 | ⋯ | 0.6272855 | 0.49789030 | 0.6497890 | 0.5007032 | 0.04500703 | 0.8241913 | 0.4852321 | 0.5583685 | 0.3066104 | 0.55836850 |\n| seq2 | 0 | 1 | 0 | 0 | 0 | 0 | 1 | 0 | 0 | 0 | ⋯ | 0.5879044 | 0.04922644 | 0.8241913 | 0.4852321 | 0.55836850 | 0.3094233 | 0.5991561 | 0.6990155 | 0.4810127 | 0.03797468 |\n\n",
            "text/html": [
              "<table>\n",
              "<caption>A matrix: 2 × 274 of type dbl</caption>\n",
              "<tbody>\n",
              "\t<tr><th scope=row>seq1</th><td>0</td><td>0</td><td>1</td><td>0</td><td>0</td><td>0</td><td>1</td><td>0</td><td>0</td><td>0</td><td>⋯</td><td>0.6272855</td><td>0.49789030</td><td>0.6497890</td><td>0.5007032</td><td>0.04500703</td><td>0.8241913</td><td>0.4852321</td><td>0.5583685</td><td>0.3066104</td><td>0.55836850</td></tr>\n",
              "\t<tr><th scope=row>seq2</th><td>0</td><td>1</td><td>0</td><td>0</td><td>0</td><td>0</td><td>1</td><td>0</td><td>0</td><td>0</td><td>⋯</td><td>0.5879044</td><td>0.04922644</td><td>0.8241913</td><td>0.4852321</td><td>0.55836850</td><td>0.3094233</td><td>0.5991561</td><td>0.6990155</td><td>0.4810127</td><td>0.03797468</td></tr>\n",
              "</tbody>\n",
              "</table>\n"
            ]
          },
          "metadata": {
            "tags": []
          }
        }
      ]
    },
    {
      "cell_type": "markdown",
      "metadata": {
        "id": "yqH-1d9kNaUW",
        "colab_type": "text"
      },
      "source": [
        "#### Showcase of statistical machine learning application"
      ]
    },
    {
      "cell_type": "markdown",
      "metadata": {
        "id": "ih3f4CRONduF",
        "colab_type": "text"
      },
      "source": [
        "Feature encoding of multiple sequences thus results in a feature matrix, which can be used as input for variety of statistical machine learning methods. For example, an application is the quantitative modeling of PBM derived protein-DNA binding by linear regression as demonstrated below.\n",
        "\n",
        "First, pre-computed binding affinity values are combined with experimental information in a data frame structure."
      ]
    },
    {
      "cell_type": "code",
      "metadata": {
        "id": "WG5Jnq4_Lodj",
        "colab_type": "code",
        "colab": {}
      },
      "source": [
        "file_exp <- system.file(\"extdata\", \"PBMsample_short.s\", package = \"DNAshapeR\")\n",
        "experimentalData <- read.table(file_exp)\n",
        "df <- data.frame(affinity=experimentalData$V1, featureVector)"
      ],
      "execution_count": 0,
      "outputs": []
    },
    {
      "cell_type": "markdown",
      "metadata": {
        "id": "NUeJdLKxOHdw",
        "colab_type": "text"
      },
      "source": [
        "Then, a machine learning package (which can be any learning tools) is used to train a multiple linear regression (MLR) model based on 3-fold cross-validation. In this example, we used the caret package \n",
        "(see <http://caret.r-forge.r-project.org/> for more information)."
      ]
    },
    {
      "cell_type": "code",
      "metadata": {
        "id": "BCTcwDLlmFSq",
        "colab_type": "code",
        "outputId": "7169f490-dee9-4577-c21a-770309da4422",
        "colab": {
          "base_uri": "https://localhost:8080/",
          "height": 91
        }
      },
      "source": [
        "# Takes about 3 minutes\n",
        "# Install caret package\n",
        "install.packages(\"caret\", quiet = TRUE)\n",
        "library(caret, quietly = TRUE)"
      ],
      "execution_count": 0,
      "outputs": [
        {
          "output_type": "stream",
          "text": [
            "also installing the dependencies ‘numDeriv’, ‘SQUAREM’, ‘lava’, ‘prodlim’, ‘iterators’, ‘data.table’, ‘gower’, ‘ipred’, ‘timeDate’, ‘foreach’, ‘ModelMetrics’, ‘recipes’, ‘pROC’\n",
            "\n",
            "\n"
          ],
          "name": "stderr"
        }
      ]
    },
    {
      "cell_type": "code",
      "metadata": {
        "id": "Hp2rqHW-2bSf",
        "colab_type": "code",
        "outputId": "036287fb-294c-42e0-b07d-7cde1dcec005",
        "colab": {
          "base_uri": "https://localhost:8080/",
          "height": 125
        }
      },
      "source": [
        "tc <- trainControl(method = \"cv\", number = 3, savePredictions = TRUE)\n",
        "model <- train(affinity~ ., data = df, trControl=tc, method=\"lm\",\n",
        "               preProcess=NULL)"
      ],
      "execution_count": 0,
      "outputs": [
        {
          "output_type": "stream",
          "text": [
            "Warning message in predict.lm(modelFit, newdata):\n",
            "“prediction from a rank-deficient fit may be misleading”\n",
            "Warning message in predict.lm(modelFit, newdata):\n",
            "“prediction from a rank-deficient fit may be misleading”\n",
            "Warning message in predict.lm(modelFit, newdata):\n",
            "“prediction from a rank-deficient fit may be misleading”\n"
          ],
          "name": "stderr"
        }
      ]
    },
    {
      "cell_type": "code",
      "metadata": {
        "id": "3-SGtUz0N71e",
        "colab_type": "code",
        "outputId": "8162fd63-05cf-4a7c-9944-578712161b01",
        "colab": {
          "base_uri": "https://localhost:8080/",
          "height": 34
        }
      },
      "source": [
        "summary(model)$r.squared"
      ],
      "execution_count": 0,
      "outputs": [
        {
          "output_type": "display_data",
          "data": {
            "text/plain": [
              "[1] 0.9800845"
            ],
            "text/latex": "0.980084515618184",
            "text/markdown": "0.980084515618184",
            "text/html": [
              "0.980084515618184"
            ]
          },
          "metadata": {
            "tags": []
          }
        }
      ]
    },
    {
      "cell_type": "markdown",
      "metadata": {
        "id": "4MhiYNqROrhZ",
        "colab_type": "text"
      },
      "source": [
        "## References"
      ]
    },
    {
      "cell_type": "markdown",
      "metadata": {
        "id": "rI3PjW6QOxVJ",
        "colab_type": "text"
      },
      "source": [
        "Chiu, T.-P., et al. GBshape: a genome browser database for DNA shape annotations. Nucleic Acids Res. 2015;43:D103-109.\n",
        "\n",
        "Comoglio, F., et al. High-resolution profiling of Drosophila replication start sites reveals a DNA shape and chromatin signature of metazoan origins. Cell Rep. 2015;11(5):821-834.\n",
        "\n",
        "Honig, B. and Nicholls, A. Classical electrostatics in biology and chemistry. Science, 1995;268:1144-1149.\n",
        "\n",
        "Joshi, R., et al. Functional specificity of a Hoxprotein mediated by the recognition of minor groove structure. Cell, 2007;131:530-543.\n",
        "\n",
        "Yang, L., et al. TFBSshape: a motif database for DNA shape features of transcriptionfactor binding sites. Nucleic Acids Res. 2014;42:D148-155.\n",
        "\n",
        "Zhang, X., et al. Conformations of p53 response elements in solution deduced using site-directed spin labeling and Monte Carlo sampling. Nucleic Acids Res. 2014;42(4):2789-2797.\n",
        "\n",
        "Zhou, T., et al. Quantitative modeling of transcription factor binding specificities using DNA shape. Proc. Natl.Acad. Sci. U S A 2015;112(15):4654-4659.\n",
        "\n",
        "Zhou, T., et al. DNAshape: a method for the high-throughput prediction of DNA structural features on a genomic scale. Nucleic Acids Res. 2013;41:W56-62."
      ]
    }
  ]
}